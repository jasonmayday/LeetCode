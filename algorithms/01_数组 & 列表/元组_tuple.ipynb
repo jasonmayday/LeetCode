{
 "cells": [
  {
   "cell_type": "code",
   "execution_count": 1,
   "metadata": {},
   "outputs": [
    {
     "data": {
      "text/plain": [
       "'\\n元组也是Python 内置的一种数据类型，也是一种有序的集合。\\ntuple和list 非常类似，但tuple 一旦初始化就不能修改。\\n• 它不能改变，没有append(), insert()这样的方法。\\n• 其他获取元素的方法和list 是一样的，你可以正常地使用courses[0], courses[-1]，但不能赋值成另外的元素。\\n因为tuple 不可变，所以代码更安全。如果可能，能用tuple 代替list 就尽量用tuple。\\n'"
      ]
     },
     "execution_count": 1,
     "metadata": {},
     "output_type": "execute_result"
    }
   ],
   "source": [
    "'''\n",
    "元组也是Python 内置的一种数据类型，也是一种有序的集合。\n",
    "tuple和list 非常类似，但tuple 一旦初始化就不能修改。\n",
    "• 它不能改变，没有append(), insert()这样的方法。\n",
    "• 其他获取元素的方法和list 是一样的，你可以正常地使用courses[0], courses[-1]，但不能赋值成另外的元素。\n",
    "因为tuple 不可变，所以代码更安全。如果可能，能用tuple 代替list 就尽量用tuple。\n",
    "'''"
   ]
  },
  {
   "cell_type": "code",
   "execution_count": 2,
   "metadata": {},
   "outputs": [],
   "source": [
    "courses = ('math', 'phys', 'chem')\n",
    "# 此时courses是一个tuple，\n",
    "# 它不能改变，没有append(), insert()这样的方法。\n",
    "# 其他获取元素的方法和list 是一样的，你可以正常地使\n",
    "# 用courses[0], courses[-1]，但不能赋值成另外的元素。"
   ]
  },
  {
   "cell_type": "code",
   "execution_count": 3,
   "metadata": {},
   "outputs": [],
   "source": [
    "# 定义只有一个元素的tuple:\n",
    "tuple4 = (1, )"
   ]
  },
  {
   "cell_type": "code",
   "execution_count": 4,
   "metadata": {},
   "outputs": [
    {
     "name": "stdout",
     "output_type": "stream",
     "text": [
      "('a', 'b', ['A', 'B'])\n",
      "('a', 'b', ['X', 'Y'])\n"
     ]
    }
   ],
   "source": [
    "# 可变的tuple\n",
    "t = ('a', 'b', ['A', 'B'])\n",
    "print (t)\n",
    "\n",
    "t [2][0] = 'X'\n",
    "t [2][1] = 'Y'\n",
    "print (t)"
   ]
  }
 ],
 "metadata": {
  "interpreter": {
   "hash": "55d0341e694fb70406e638a4f2162cf47c98f86fd85dae8f32efdba98646fd4f"
  },
  "kernelspec": {
   "display_name": "Python 3.6.8 64-bit ('tf115': conda)",
   "name": "python3"
  },
  "language_info": {
   "codemirror_mode": {
    "name": "ipython",
    "version": 3
   },
   "file_extension": ".py",
   "mimetype": "text/x-python",
   "name": "python",
   "nbconvert_exporter": "python",
   "pygments_lexer": "ipython3",
   "version": "3.6.8"
  },
  "orig_nbformat": 4
 },
 "nbformat": 4,
 "nbformat_minor": 2
}

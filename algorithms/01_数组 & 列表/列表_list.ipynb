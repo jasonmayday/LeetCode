{
 "cells": [
  {
   "cell_type": "code",
   "execution_count": 1,
   "metadata": {},
   "outputs": [
    {
     "name": "stdout",
     "output_type": "stream",
     "text": [
      "['math', 'phys', 'chem']\n"
     ]
    }
   ],
   "source": [
    "courses = ['math', 'phys', 'chem']\n",
    "print (courses)"
   ]
  },
  {
   "cell_type": "code",
   "execution_count": 2,
   "metadata": {},
   "outputs": [
    {
     "name": "stdout",
     "output_type": "stream",
     "text": [
      "3\n"
     ]
    }
   ],
   "source": [
    "# 用len()函数获取列表中元素的个数\n",
    "print (len(courses))"
   ]
  },
  {
   "cell_type": "code",
   "execution_count": 3,
   "metadata": {},
   "outputs": [
    {
     "name": "stdout",
     "output_type": "stream",
     "text": [
      "math\n",
      "phys\n",
      "chem\n"
     ]
    }
   ],
   "source": [
    "# 用索引来访问列表中每一个位置的元素，记住索引从0 开始\n",
    "print (courses[0])\n",
    "print (courses[1])\n",
    "print (courses[2])"
   ]
  },
  {
   "cell_type": "code",
   "execution_count": 4,
   "metadata": {},
   "outputs": [
    {
     "name": "stdout",
     "output_type": "stream",
     "text": [
      "['math', 'phys', 'chem', 'biology']\n"
     ]
    }
   ],
   "source": [
    "# 向列表末尾追加元素，用append()方法：\n",
    "courses.append ('biology')\n",
    "print (courses)"
   ]
  },
  {
   "cell_type": "code",
   "execution_count": 5,
   "metadata": {},
   "outputs": [
    {
     "name": "stdout",
     "output_type": "stream",
     "text": [
      "['math', 'history', 'phys', 'chem', 'biology']\n"
     ]
    }
   ],
   "source": [
    "# 把元素插入到指定的位置，用insert()方法：\n",
    "courses.insert(1, 'history')\n",
    "print (courses)"
   ]
  },
  {
   "cell_type": "code",
   "execution_count": 6,
   "metadata": {},
   "outputs": [
    {
     "name": "stdout",
     "output_type": "stream",
     "text": [
      "['math', 'history', 'phys', 'chem']\n"
     ]
    }
   ],
   "source": [
    "# 删除列表末尾的元素，用pop()方法：\n",
    "courses.pop()\n",
    "print (courses)"
   ]
  },
  {
   "cell_type": "code",
   "execution_count": 7,
   "metadata": {},
   "outputs": [
    {
     "name": "stdout",
     "output_type": "stream",
     "text": [
      "['math', 'phys', 'chem']\n"
     ]
    }
   ],
   "source": [
    "# 删除指定位置的元素，用pop(i)方法，其中i为索引位置：\n",
    "courses.pop(1)\n",
    "print (courses)"
   ]
  },
  {
   "cell_type": "code",
   "execution_count": 8,
   "metadata": {},
   "outputs": [
    {
     "name": "stdout",
     "output_type": "stream",
     "text": [
      "['math', 'chinese', 'chem']\n"
     ]
    }
   ],
   "source": [
    "# 把某个元素替换成别的元素，可以直接赋值给对应的索引位置：\n",
    "courses [1] = 'chinese'\n",
    "print (courses)"
   ]
  }
 ],
 "metadata": {
  "interpreter": {
   "hash": "55d0341e694fb70406e638a4f2162cf47c98f86fd85dae8f32efdba98646fd4f"
  },
  "kernelspec": {
   "display_name": "Python 3.6.8 64-bit ('tf115': conda)",
   "name": "python3"
  },
  "language_info": {
   "codemirror_mode": {
    "name": "ipython",
    "version": 3
   },
   "file_extension": ".py",
   "mimetype": "text/x-python",
   "name": "python",
   "nbconvert_exporter": "python",
   "pygments_lexer": "ipython3",
   "version": "3.6.8"
  },
  "orig_nbformat": 4
 },
 "nbformat": 4,
 "nbformat_minor": 2
}

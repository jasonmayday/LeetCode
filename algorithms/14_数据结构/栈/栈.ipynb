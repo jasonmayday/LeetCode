{
 "cells": [
  {
   "cell_type": "code",
   "execution_count": 39,
   "metadata": {},
   "outputs": [],
   "source": [
    "# A complete working Python program to demonstrate all \n",
    "# stack operations using a doubly linked list \n",
    "  \n",
    "# Node class \n",
    "class Node:\n",
    "  \n",
    "# Function to initialise the node object\n",
    "    def __init__(self, data):\n",
    "        self.data = data # Assign data\n",
    "        self.next = None # Initialize next as null\n",
    "        self.prev = None # Initialize prev as null        \n",
    "          \n",
    "# Stack class contains a Node object\n",
    "class Stack:\n",
    "    # Function to initialize head \n",
    "    def __init__(self):\n",
    "        self.head = None\n",
    "          \n",
    "# Function to add an element data in the stack \n",
    "    def push(self, data):\n",
    "  \n",
    "        if self.head is None:\n",
    "            self.head = Node(data)\n",
    "        else:\n",
    "            new_node = Node(data)\n",
    "            self.head.prev = new_node\n",
    "            new_node.next = self.head\n",
    "            new_node.prev = None\n",
    "            self.head = new_node          \n",
    "              \n",
    "# Function to pop top element and return the element from the stack \n",
    "    def pop(self):\n",
    "  \n",
    "        if self.head is None:\n",
    "            return None\n",
    "        elif self.head.next is None:\n",
    "            temp = self.head.data\n",
    "            self.head = None\n",
    "            return temp\n",
    "        else:\n",
    "            temp = self.head.data\n",
    "            self.head = self.head.next\n",
    "            self.head.prev = None\n",
    "            return temp\n",
    "\n",
    "# Function to return top element in the stack \n",
    "    def top(self):\n",
    "  \n",
    "        return self.head.data\n",
    "  \n",
    "# Function to return the size of the stack \n",
    "    def size(self):\n",
    "  \n",
    "        temp = self.head\n",
    "        count = 0\n",
    "        while temp is not None:\n",
    "            count = count + 1\n",
    "            temp = temp.next\n",
    "        return count\n",
    "         \n",
    "# Function to check if the stack is empty or not  \n",
    "    def isEmpty(self):\n",
    "  \n",
    "        if self.head is None:\n",
    "           return True\n",
    "        else:\n",
    "           return False\n",
    "              \n",
    "# Function to print the stack\n",
    "    def printstack(self):\n",
    "          \n",
    "        print(\"stack elements are:\")\n",
    "        temp = self.head\n",
    "        while temp is not None:\n",
    "            print(temp.data, end =\"->\")\n",
    "            temp = temp.next           "
   ]
  },
  {
   "cell_type": "code",
   "execution_count": 40,
   "metadata": {},
   "outputs": [],
   "source": [
    "if __name__=='__main__':\n",
    "# 创建新的空栈\n",
    "  stack = Stack()"
   ]
  },
  {
   "cell_type": "code",
   "execution_count": 41,
   "metadata": {},
   "outputs": [],
   "source": [
    "# 添加元素 4 到栈顶\n",
    "  stack.push(4)"
   ]
  },
  {
   "cell_type": "code",
   "execution_count": 42,
   "metadata": {},
   "outputs": [],
   "source": [
    "# Insert 5 at the beginning. So stack becomes 4->5->None \n",
    "  stack.push(5)"
   ]
  },
  {
   "cell_type": "code",
   "execution_count": 43,
   "metadata": {},
   "outputs": [],
   "source": [
    "# Insert 6 at the beginning. So stack becomes 4->5->6->None \n",
    "  stack.push(6)"
   ]
  },
  {
   "cell_type": "code",
   "execution_count": 44,
   "metadata": {},
   "outputs": [],
   "source": [
    "# Insert 7 at the beginning. So stack becomes 4->5->6->7->None \n",
    "  stack.push(7)"
   ]
  },
  {
   "cell_type": "code",
   "execution_count": 45,
   "metadata": {},
   "outputs": [
    {
     "name": "stdout",
     "output_type": "stream",
     "text": [
      "stack elements are:\n",
      "7->6->5->4->"
     ]
    }
   ],
   "source": [
    "# Print the stack\n",
    "  stack.printstack()"
   ]
  },
  {
   "cell_type": "code",
   "execution_count": 46,
   "metadata": {},
   "outputs": [
    {
     "name": "stdout",
     "output_type": "stream",
     "text": [
      "\n",
      "Top element is  7\n"
     ]
    }
   ],
   "source": [
    "# Print the top element\n",
    "  print(\"\\nTop element is \", stack.top())"
   ]
  },
  {
   "cell_type": "code",
   "execution_count": 47,
   "metadata": {},
   "outputs": [
    {
     "name": "stdout",
     "output_type": "stream",
     "text": [
      "Size of the stack is  4\n"
     ]
    }
   ],
   "source": [
    "# Print the stack size\n",
    "  print(\"Size of the stack is \", stack.size())"
   ]
  },
  {
   "cell_type": "code",
   "execution_count": 48,
   "metadata": {},
   "outputs": [
    {
     "data": {
      "text/plain": [
       "7"
      ]
     },
     "execution_count": 48,
     "metadata": {},
     "output_type": "execute_result"
    }
   ],
   "source": [
    "# pop the top element\n",
    "  stack.pop()"
   ]
  },
  {
   "cell_type": "code",
   "execution_count": 49,
   "metadata": {},
   "outputs": [
    {
     "data": {
      "text/plain": [
       "6"
      ]
     },
     "execution_count": 49,
     "metadata": {},
     "output_type": "execute_result"
    }
   ],
   "source": [
    "# pop the top element\n",
    "  stack.pop()"
   ]
  },
  {
   "cell_type": "code",
   "execution_count": 50,
   "metadata": {},
   "outputs": [
    {
     "name": "stdout",
     "output_type": "stream",
     "text": [
      "stack elements are:\n",
      "5->4->"
     ]
    }
   ],
   "source": [
    "# two elements are popped\n",
    "# Print the stack\n",
    "  stack.printstack()"
   ]
  },
  {
   "cell_type": "code",
   "execution_count": 51,
   "metadata": {},
   "outputs": [
    {
     "name": "stdout",
     "output_type": "stream",
     "text": [
      "\n",
      "stack is empty: False\n"
     ]
    }
   ],
   "source": [
    "# Print True if the stack is empty else False\n",
    "  print(\"\\nstack is empty:\", stack.isEmpty())"
   ]
  }
 ],
 "metadata": {
  "interpreter": {
   "hash": "55d0341e694fb70406e638a4f2162cf47c98f86fd85dae8f32efdba98646fd4f"
  },
  "kernelspec": {
   "display_name": "Python 3.6.8 64-bit ('tf115': conda)",
   "name": "python3"
  },
  "language_info": {
   "codemirror_mode": {
    "name": "ipython",
    "version": 3
   },
   "file_extension": ".py",
   "mimetype": "text/x-python",
   "name": "python",
   "nbconvert_exporter": "python",
   "pygments_lexer": "ipython3",
   "version": "3.6.8"
  },
  "orig_nbformat": 4
 },
 "nbformat": 4,
 "nbformat_minor": 2
}

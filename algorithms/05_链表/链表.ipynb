{
 "cells": [
  {
   "cell_type": "code",
   "execution_count": 9,
   "metadata": {},
   "outputs": [],
   "source": [
    "# 链表节点\n",
    "class ListNode(object):\n",
    "    def __init__(self, x):\n",
    "        self.val = x # 节点值\n",
    "        self.next = None"
   ]
  },
  {
   "cell_type": "code",
   "execution_count": 10,
   "metadata": {},
   "outputs": [],
   "source": [
    "# 将列表转换成链表\n",
    "def stringToListNode(input):\n",
    "    numbers = input\n",
    "    dummyRoot = ListNode(0)\n",
    "    ptr = dummyRoot\n",
    "    for number in numbers:\n",
    "        ptr.next = ListNode(number)# 分别将列表中每个数转换成节点\n",
    "        ptr = ptr.next\n",
    "    ptr = dummyRoot.next\n",
    "    return ptr"
   ]
  },
  {
   "cell_type": "code",
   "execution_count": 11,
   "metadata": {},
   "outputs": [],
   "source": [
    "# 将链表转换成字符串\n",
    "def listNodeToString(node):\n",
    "    if not node:\n",
    "        return \"[]\"\n",
    "    result = \"\"\n",
    "    while node:\n",
    "        result += str(node.val) + \", \"\n",
    "        node = node.next\n",
    "    return \"[\" + result[:-2] + \"]\""
   ]
  },
  {
   "cell_type": "code",
   "execution_count": 12,
   "metadata": {},
   "outputs": [],
   "source": [
    "class Solution(object):\n",
    "    # 删除链表中的节点\n",
    "    def deleteNode(self, node):\n",
    "        \"\"\"\n",
    "        :type node: ListNode\n",
    "        :rtype: void Do not return anything, modify node in-place instead.\n",
    "        \"\"\"\n",
    "        node.val = node.next.val\n",
    "        node.next = node.next.next\n",
    "        # print(listNodeToString(node))\n",
    "    # 删除链表的倒数第N个节点\n",
    "    def removeNthFromEnd(self, head, n):\n",
    "        \"\"\"\n",
    "        :type head: ListNode\n",
    "        :type n: int\n",
    "        :rtype: ListNode\n",
    "        \"\"\"\n",
    "        listNode = []\n",
    "        while head:# 将每个节点存放在列表中\n",
    "            listNode.append(head)\n",
    "            head = head.next\n",
    "        if 1 <= n <= len(listNode):# 如果n在列表个数之内的话\n",
    "            n = len(listNode) - n# n原本是倒数位置，现在赋值为正方向位置\n",
    "            if n == 0:# 如果是删除第1个位置的节点\n",
    "                if len(listNode) > 1:# 如果节点总数大于1\n",
    "                    listNode[0].val = listNode[1].val# 删除第1个位置\n",
    "                    listNode[0].next = listNode[1].next\n",
    "                else:\n",
    "                    return None# 因为节点一共就1个或0个，所以删除1个直接返回None\n",
    "            else:\n",
    "                listNode[n - 1].next = listNode[n].next# 将该节点的上一个节点的后节点赋值为该节点的后节点，即删除该节点\n",
    "        return listNode[0]\n",
    "\n",
    "    # 反转链表\n",
    "    def reverseList(self, head):\n",
    "        \"\"\"\n",
    "        :type head: ListNode\n",
    "        :rtype: ListNode\n",
    "        \"\"\"\n",
    "        listNode = []\n",
    "        while head:\n",
    "            listNode.append(head)\n",
    "            head = head.next\n",
    "        if len(listNode) == 0:\n",
    "            return None\n",
    "        for i in range(int(len(listNode) / 2)):# 将节点的值收尾分别调换\n",
    "            listNode[i].val, listNode[len(listNode) - i - 1].val = listNode[len(listNode) - i - 1].val, listNode[i].val\n",
    "        return listNode[0]\n",
    "\n",
    "    # 合并两个有序链表\n",
    "    def mergeTwoLists(self, l1, l2):\n",
    "        \"\"\"\n",
    "        :type l1: ListNode\n",
    "        :type l2: ListNode\n",
    "        :rtype: ListNode\n",
    "        \"\"\"\n",
    "        newList = ListNode(0)\n",
    "        newList.next = l1\n",
    "        prev= newList# 获得新链表\n",
    "\n",
    "        while l2:\n",
    "            if not l1:# 如果l1不存在，直接返回l2即可\n",
    "                prev.next = l2\n",
    "                break\n",
    "            if l1.val > l2.val:# 1，判断l1和l2哪个大，如果l2小，则将新节点的后面设为l2的头节点，并将头节点的后面设置为l1，反之l1小，则直接将头节点的后面设置为l1，并将节点后移\n",
    "                temp = l2\n",
    "                l2 = l2.next\n",
    "                prev.next = temp\n",
    "                temp.next = l1\n",
    "                prev = prev.next#\n",
    "            else:# 反之l2大于l1，则是l1节点向后移\n",
    "                l1, prev = l1.next, l1\n",
    "        return newList.next\n",
    "\n",
    "    # 回文链表\n",
    "    def isPalindrome(self, head):\n",
    "        \"\"\"\n",
    "        :type head: ListNode\n",
    "        :rtype: bool\n",
    "        \"\"\"\n",
    "        listNode = []\n",
    "        while head:\n",
    "            listNode.append(head)\n",
    "            head = head.next\n",
    "        for i in range(int(len(listNode) / 2)):# 判断两头的值是否一样大\n",
    "            if listNode[i].val != listNode[len(listNode) - i - 1].val:\n",
    "                return False\n",
    "        return True\n",
    "\n",
    "    # 环形链表\n",
    "    def hasCycle(self, head):\n",
    "        \"\"\"\n",
    "        :type head: ListNode\n",
    "        :rtype: bool\n",
    "        \"\"\"\n",
    "        if not head:\n",
    "            return False\n",
    "        p1=p2=head\n",
    "        while p2.next and p2.next.next:# p1走1步，p2走两步，如果在链表没走完的情况下，找到完全相同的节点，就是找到环了\n",
    "            p1=p1.next\n",
    "            p2=p2.next.next\n",
    "            if p1==p2:\n",
    "                return True\n",
    "        return False\n",
    "\n",
    "head = [1, 2, 3, 4, 5]\n",
    "head2 = [4, 5, 8, 9]\n",
    "sol = Solution()\n"
   ]
  },
  {
   "cell_type": "code",
   "execution_count": 13,
   "metadata": {},
   "outputs": [
    {
     "name": "stdout",
     "output_type": "stream",
     "text": [
      "None\n",
      "[1, 2, 3, 4]\n",
      "[5, 4, 3, 2, 1]\n",
      "[1, 2, 3, 4, 4, 5, 5, 8, 9]\n",
      "False\n",
      "False\n"
     ]
    }
   ],
   "source": [
    "\n",
    "print(sol.deleteNode(stringToListNode(head))) \n",
    "print(listNodeToString(sol.removeNthFromEnd(stringToListNode(head), 1)))  # 删除倒数第一个位置\n",
    "print(listNodeToString(sol.reverseList(stringToListNode(head))))  # 翻转\n",
    "print(listNodeToString(sol.mergeTwoLists(stringToListNode(head2), stringToListNode(head))))  # 合并两个链表\n",
    "print(sol.isPalindrome(stringToListNode(head)))\n",
    "print(sol.hasCycle(stringToListNode(head)))"
   ]
  },
  {
   "cell_type": "code",
   "execution_count": null,
   "metadata": {},
   "outputs": [],
   "source": []
  },
  {
   "cell_type": "code",
   "execution_count": null,
   "metadata": {},
   "outputs": [],
   "source": []
  },
  {
   "cell_type": "code",
   "execution_count": null,
   "metadata": {},
   "outputs": [],
   "source": []
  },
  {
   "cell_type": "code",
   "execution_count": null,
   "metadata": {},
   "outputs": [],
   "source": []
  },
  {
   "cell_type": "code",
   "execution_count": null,
   "metadata": {},
   "outputs": [],
   "source": []
  },
  {
   "cell_type": "code",
   "execution_count": null,
   "metadata": {},
   "outputs": [],
   "source": []
  }
 ],
 "metadata": {
  "interpreter": {
   "hash": "55d0341e694fb70406e638a4f2162cf47c98f86fd85dae8f32efdba98646fd4f"
  },
  "kernelspec": {
   "display_name": "Python 3.6.8 64-bit ('tf115': conda)",
   "name": "python3"
  },
  "language_info": {
   "codemirror_mode": {
    "name": "ipython",
    "version": 3
   },
   "file_extension": ".py",
   "mimetype": "text/x-python",
   "name": "python",
   "nbconvert_exporter": "python",
   "pygments_lexer": "ipython3",
   "version": "3.6.8"
  },
  "orig_nbformat": 4
 },
 "nbformat": 4,
 "nbformat_minor": 2
}

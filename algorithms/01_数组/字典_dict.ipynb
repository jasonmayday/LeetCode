{
 "cells": [
  {
   "cell_type": "code",
   "execution_count": 1,
   "metadata": {},
   "outputs": [
    {
     "name": "stdout",
     "output_type": "stream",
     "text": [
      "95\n"
     ]
    }
   ],
   "source": [
    "# 如果用dict 实现，只需要一个“名字”-“成绩”的对照表\n",
    "info = {'math': 95, 'phys': 90, 'chem': 85}\n",
    "print ( info ['math'])"
   ]
  },
  {
   "cell_type": "code",
   "execution_count": 2,
   "metadata": {},
   "outputs": [
    {
     "name": "stdout",
     "output_type": "stream",
     "text": [
      "88\n"
     ]
    }
   ],
   "source": [
    "# 把数据放入dict 的方法，除了初始化时指定外，还可以通过key放入：\n",
    "info ['chinese'] = 88\n",
    "print ( info ['chinese'])"
   ]
  },
  {
   "cell_type": "code",
   "execution_count": 3,
   "metadata": {},
   "outputs": [
    {
     "name": "stdout",
     "output_type": "stream",
     "text": [
      "94\n"
     ]
    }
   ],
   "source": [
    "#由于一个key 只能对应一个value，所以，多次对一个key 放入value，后面的值会把前面的值冲掉：\n",
    "info ['chinese'] = 94\n",
    "print ( info ['chinese'])"
   ]
  },
  {
   "cell_type": "code",
   "execution_count": 4,
   "metadata": {},
   "outputs": [],
   "source": [
    "# 如果key 不存在，dict 就会报错：\n",
    "# print ( info ['history'])"
   ]
  },
  {
   "cell_type": "code",
   "execution_count": 5,
   "metadata": {},
   "outputs": [
    {
     "name": "stdout",
     "output_type": "stream",
     "text": [
      "False\n",
      "None\n",
      "-1\n"
     ]
    }
   ],
   "source": [
    "# 要避免key 不存在的错误，有两种办法:\n",
    "    # 通过in判断key是否存在\n",
    "print ('history' in info )\n",
    "\n",
    "    # 通过dict 提供的get()方法，如果key不存在，可以返回None，或自己指定的value:\n",
    "print ( info .get ('history'))\n",
    "print ( info .get ('history', -1))"
   ]
  },
  {
   "cell_type": "code",
   "execution_count": 6,
   "metadata": {},
   "outputs": [
    {
     "name": "stdout",
     "output_type": "stream",
     "text": [
      "{'math': 95, 'phys': 90, 'chinese': 94}\n"
     ]
    }
   ],
   "source": [
    "# 要删除一个key，用pop(key)方法，对应的value 也会从dict 中删除：\n",
    "# 请务必注意：dict 内部存放的顺序和key 放入的顺序没有关系，也就是dict 是无序的。\n",
    "info .pop('chem')\n",
    "print ( info )"
   ]
  }
 ],
 "metadata": {
  "interpreter": {
   "hash": "55d0341e694fb70406e638a4f2162cf47c98f86fd85dae8f32efdba98646fd4f"
  },
  "kernelspec": {
   "display_name": "Python 3.6.8 64-bit ('tf115': conda)",
   "name": "python3"
  },
  "language_info": {
   "codemirror_mode": {
    "name": "ipython",
    "version": 3
   },
   "file_extension": ".py",
   "mimetype": "text/x-python",
   "name": "python",
   "nbconvert_exporter": "python",
   "pygments_lexer": "ipython3",
   "version": "3.6.8"
  },
  "orig_nbformat": 4
 },
 "nbformat": 4,
 "nbformat_minor": 2
}

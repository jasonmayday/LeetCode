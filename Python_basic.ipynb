{
 "cells": [
  {
   "cell_type": "code",
   "execution_count": 163,
   "metadata": {},
   "outputs": [
    {
     "name": "stdout",
     "output_type": "stream",
     "text": [
      "[0, 0, 0, 0, 0, 0]\n",
      "[[1, 2, 45, 4], [1, 2, 45, 4], [1, 2, 45, 4]]\n"
     ]
    }
   ],
   "source": [
    "# Python序列的运算\n",
    "'''\n",
    "运算名  运算符   解释\n",
    "索引    []      取序列中的某个元素\n",
    "连接    +       将序列连接在一起\n",
    "重复    *       重复次连接\n",
    "成员    in      询问序列中是否有某元素\n",
    "长度    len     询问序列的元素个数\n",
    "切片    [:]     取出序列的一部分\n",
    "'''\n",
    "myList1 = [0] * 6\n",
    "print (myList1)\n",
    "\n",
    "myList2 = [1,2,3,4]\n",
    "myList2 [2] = 45\n",
    "A = [myList2] * 3\n",
    "print (A)\n"
   ]
  },
  {
   "cell_type": "code",
   "execution_count": 164,
   "metadata": {},
   "outputs": [
    {
     "name": "stdout",
     "output_type": "stream",
     "text": [
      "[1024, 3, True, 6.5, False]\n",
      "[1024, 3, 4.5, True, 6.5, False]\n",
      "[1024, 3, 4.5, True, 6.5]\n",
      "[1024, 4.5, True, 6.5]\n",
      "[True, 4.5, 6.5, 1024]\n",
      "[1024, 6.5, 4.5, True]\n",
      "1\n",
      "2\n",
      "[1024, 4.5, True]\n",
      "[4.5, True]\n"
     ]
    }
   ],
   "source": [
    "#Python列表提供的方法\n",
    "'''\n",
    "方法名      用法                     解释\n",
    "append      alist.append(item)      在列表末尾添加一个新元素\n",
    "insert      alist.insert(i,item)    在列表的第个位置插入一个元素\n",
    "pop         alist.pop()             删除并返回列表中最后一个元素\n",
    "pop         alist.pop(i)            删除并返回列表中第个位置的元素\n",
    "sort        alist.sort()            将列表元素排序\n",
    "reverse     alist.reverse()         将列表元素倒序排列\n",
    "del         del alist[i]            删除列表中第个位置的元素\n",
    "index       alist.index(item)       返回item第一次出现时的下标\n",
    "count       alist.count(item)       返回item在列表中出现的次数\n",
    "remove      alist.remove(item)      从列表中移除第一次出现的item\n",
    "'''\n",
    "myList = [1024, 3, True, 6.5]\n",
    "\n",
    "myList.append(False)        # 在列表最后加上'False'\n",
    "print (myList)              # [1024, 3, True, 6.5, False]\n",
    "\n",
    "myList.insert(2, 4.5)       # 在位置2上加上'4.5'\n",
    "print (myList)              # [1024, 3, 4.5, True, 6.5, False]\n",
    "\n",
    "myList.pop()                # 删除最后一位元素\n",
    "print (myList)              # [1024, 3, 4.5, True, 6.5]\n",
    "\n",
    "myList.pop(1)               # 删除位置1的元素\n",
    "print (myList)              # [1024, 4.5, True, 6.5]\n",
    "\n",
    "myList.sort()               # 排序\n",
    "print (myList)              # [True, 4.5, 6.5, 1024]\n",
    "\n",
    "myList.reverse()            # 反转\n",
    "print (myList)              # [1024, 6.5, 4.5, True]\n",
    "\n",
    "print (myList.count(6.5))   # 列出'6.5'的位置\n",
    "\n",
    "print (myList.index(4.5))   # 列出'4.5'的位置\n",
    "\n",
    "myList.remove(6.5)          # 删除'6.5'\n",
    "print (myList)              # [1024, 4.5, True]\n",
    "\n",
    "del myList[0]               # 删除位置为 0 的元素\n",
    "print (myList)              # [4.5, True]"
   ]
  },
  {
   "cell_type": "code",
   "execution_count": 165,
   "metadata": {},
   "outputs": [
    {
     "name": "stdout",
     "output_type": "stream",
     "text": [
      "[0, 1, 2, 3, 4, 5, 6, 7, 8, 9]\n",
      "[5, 6, 7, 8, 9]\n",
      "[5, 7, 9]\n",
      "[10, 9, 8, 7, 6, 5, 4, 3, 2]\n"
     ]
    }
   ],
   "source": [
    "print (list(range(10)))         # 从 0 到 9\n",
    "\n",
    "print (list(range(5,10)))       # 从 5 到 9\n",
    "\n",
    "print (list(range(5,10,2)))     # 从 5 到 9，间隔为 2\n",
    "\n",
    "print (list(range(10,1,-1)))    # 从 9 到 2，间隔为 -1"
   ]
  },
  {
   "cell_type": "code",
   "execution_count": 166,
   "metadata": {},
   "outputs": [
    {
     "name": "stdout",
     "output_type": "stream",
     "text": [
      "i\n",
      "DavidDavid\n",
      "5\n",
      "DAVID\n",
      "  David   \n",
      "2\n",
      "['Da', 'id']\n"
     ]
    }
   ],
   "source": [
    "# Python字符串提供的方法\n",
    "'''\n",
    "方法名       用法                    解释\n",
    "center      astring.center(w)       返回一个字符串，原字符串居中，使用空格填充新字符串，使其长度为w\n",
    "count       astring.count(item)     返回item出现的次数\n",
    "ljust       astring.ljust(w)        返回一个字符串，将原字符串靠左放置并填充空格至长度w\n",
    "rjust       astring.rjust(w)        返回一个字符串，将原字符串靠右放置并填充空格至长度w\n",
    "lower       astring.lower()         返回均为小写字母的字符串\n",
    "upper       astring.upper()         返回均为大写字母的字符串\n",
    "find        astring.find(item)      返回item第一次出现时的下标\n",
    "split       astring.split(schar)    在schar位置将字符串分割成子串\n",
    "'''\n",
    "\n",
    "myName = \"David\"\n",
    "print (myName[3])           # 第 4 位置（从 0 开始计数）\n",
    "\n",
    "print (myName * 2)          # 翻倍\n",
    "\n",
    "print (len(myName))         # 长度为10\n",
    "\n",
    "print (myName.upper())      # 字符串大写\n",
    "\n",
    "print (myName.center(10))   # 返回字符串myName，原字符串居中，使用空格填充新字符串，使其长度为 10\n",
    "\n",
    "print (myName.find('v'))    # 返回 v 第一次出现时的下标\n",
    "\n",
    "print (myName.split('v'))   # 在 v 位置将字符串分割成子串"
   ]
  },
  {
   "cell_type": "code",
   "execution_count": 167,
   "metadata": {},
   "outputs": [
    {
     "name": "stdout",
     "output_type": "stream",
     "text": [
      "(2, True, 4.96)\n",
      "3\n",
      "2\n",
      "(2, True, 4.96, 2, True, 4.96, 2, True, 4.96)\n",
      "(2, True)\n"
     ]
    },
    {
     "data": {
      "text/plain": [
       "'如果尝试改变元组中的一个元素，就会遇到错误'"
      ]
     },
     "execution_count": 167,
     "metadata": {},
     "output_type": "execute_result"
    }
   ],
   "source": [
    "# 元组\n",
    "# 元组是不可修改的。元组通常写成由括号包含并且以逗号分隔的一系列值。与序列一样，元组允许之前描述的任一操作。\n",
    "myTuple = (2, True, 4.96)\n",
    "\n",
    "print (myTuple)\n",
    "\n",
    "print (len(myTuple))\n",
    "\n",
    "\n",
    "print (myTuple[0])\n",
    "\n",
    "myTuple = myTuple * 3\n",
    "print (myTuple)\n",
    "\n",
    "print (myTuple[0:2])\n",
    "\n",
    "'''如果尝试改变元组中的一个元素，就会遇到错误'''\n",
    "# myTuple [1] = False\n",
    "# TypeError: 'tuple' object does not support item assignment"
   ]
  },
  {
   "cell_type": "code",
   "execution_count": 168,
   "metadata": {},
   "outputs": [
    {
     "name": "stdout",
     "output_type": "stream",
     "text": [
      "5\n",
      "True\n",
      "False\n"
     ]
    }
   ],
   "source": [
    "# Python集支持的运算\n",
    "'''\n",
    "运算名      运算符                   解释\n",
    "成员        in                      询问集中是否有某元素\n",
    "长度        len                     获取集的元素个数\n",
    "\\|          aset \\| otherset        返回一个包含aset与otherset所有元素的新集\n",
    "&           aset & otherset         返回一个包含aset与otherset共有元素的新集\n",
    "-           aset - otherset         返回一个集，其中包含只出现在aset中的元素\n",
    "<=          aset <= otherset        询问aset中的所有元素是否都在otherset中\n",
    "'''\n",
    "\n",
    "mySet = {False, 4.5, 3, 6, 'cat'}\n",
    "\n",
    "print (len(mySet))          # 5\n",
    "\n",
    "print (False in mySet)      # True\n",
    "\n",
    "print (\"dog\" in mySet)      # False\n"
   ]
  },
  {
   "cell_type": "code",
   "execution_count": 169,
   "metadata": {},
   "outputs": [
    {
     "name": "stdout",
     "output_type": "stream",
     "text": [
      "{False, 3, 4.5, 'cat', 6, 99, 100}\n",
      "{False, 3, 4.5, 'cat', 6, 99, 100}\n",
      "{3}\n",
      "{3}\n",
      "{False, 'cat', 4.5, 6}\n",
      "{False, 'cat', 4.5, 6}\n",
      "True\n",
      "True\n",
      "{False, 3, 4.5, 'cat', 6, 'house'}\n",
      "{False, 3, 'cat', 6, 'house'}\n",
      "set()\n"
     ]
    }
   ],
   "source": [
    "# Python集提供的方法\n",
    "'''\n",
    "方法名          用法                             解释\n",
    "union           aset.union(otherset)            返回一个包含aset和otherset所有元素的集\n",
    "intersection    aset.intersection(otherset)     返回一个仅包含两个集共有元素的集\n",
    "difference      aset.difference(otherset)       返回一个集，其中仅包含只出现在aset中的元素\n",
    "issubset        aset.issubset(otherset)         询问aset是否为otherset的子集\n",
    "add             aset.add(item)                  向aset添加一个元素\n",
    "remove          aset.remove(item)               将item从aset中移除\n",
    "pop             aset.pop()                      随机移除aset中的一个元素\n",
    "clear           aset.clear()                    清除aset中的所有元素\n",
    "'''\n",
    "\n",
    "mySet = {False, 4.5, 3, 6, 'cat'}\n",
    "yourSet = {99,3,100}\n",
    "\n",
    "print (mySet.union(yourSet))        # 并集：{False, 3, 4.5, 'cat', 6, 99, 100}\n",
    "\n",
    "print (mySet | yourSet)             # 并集：{False, 3, 4.5, 'cat', 6, 99, 100}\n",
    "\n",
    "print (mySet.intersection(yourSet)) # 交集：{3}\n",
    "\n",
    "print (mySet & yourSet)             # 交集：{3}\n",
    "\n",
    "print (mySet.difference(yourSet))   # 仅在mySet，不在yourSet中的元素：{False, 4.5, 6, 'cat'}\n",
    "\n",
    "print (mySet - yourSet)             # 与以上命令相同功能，{False, 4.5, 6, 'cat'}  \n",
    "\n",
    "print ({3,100}.issubset(yourSet))   # True\n",
    "\n",
    "print ({3,100}<=yourSet)            # True\n",
    "\n",
    "mySet.add(\"house\")                  # \n",
    "print (mySet)                       # {False, 4.5, 3, 6, 'house', 'cat'}\n",
    "\n",
    "mySet.remove(4.5)\n",
    "print (mySet)                       # {False, 3, 6, 'house', 'cat'}\n",
    "\n",
    "mySet.clear()\n",
    "print (mySet) "
   ]
  },
  {
   "cell_type": "code",
   "execution_count": 170,
   "metadata": {},
   "outputs": [
    {
     "name": "stdout",
     "output_type": "stream",
     "text": [
      "DesMoines\n",
      "{'Iowa': 'DesMoines', 'Wisconsin': 'Madison', 'Utah': 'SaltLakeCity'}\n",
      "{'Iowa': 'DesMoines', 'Wisconsin': 'Madison', 'Utah': 'SaltLakeCity', 'California': 'Sacramento'}\n",
      "4\n"
     ]
    }
   ],
   "source": [
    "# Python字典支持的运算\n",
    "'''\n",
    "运算名          运算符                   解释\n",
    "[]              myDict[k]               返回与k相关联的值，如果没有则报错\n",
    "in              key in adict            如果key在字典中，返回True，否则返回False\n",
    "del             del adict[key]          从字典中删除key的键–值对\n",
    "'''\n",
    "\n",
    "capitals = {'Iowa':'DesMoines','Wisconsin':'Madison'}\n",
    "\n",
    "print (capitals['Iowa'])\n",
    "\n",
    "capitals['Utah']='SaltLakeCity'\n",
    "print(capitals)\n",
    "\n",
    "capitals['California']='Sacramento'\n",
    "print(capitals)\n",
    "\n",
    "print(len(capitals))"
   ]
  },
  {
   "cell_type": "code",
   "execution_count": 171,
   "metadata": {},
   "outputs": [
    {
     "name": "stdout",
     "output_type": "stream",
     "text": [
      "{'david': 1410, 'brad': 1137}\n",
      "dict_keys(['david', 'brad'])\n",
      "['david', 'brad']\n",
      "dict_values([1410, 1137])\n",
      "[1410, 1137]\n",
      "dict_items([('david', 1410), ('brad', 1137)])\n",
      "[('david', 1410), ('brad', 1137)]\n"
     ]
    },
    {
     "data": {
      "text/plain": [
       "'NO ENTRY'"
      ]
     },
     "execution_count": 171,
     "metadata": {},
     "output_type": "execute_result"
    }
   ],
   "source": [
    "# Python字典提供的方法\n",
    "'''\n",
    "方法名           用法                    解释\n",
    "keys            adict.keys()            返回包含字典中所有键的dict_keys对象\n",
    "values          adict.values()          返回包含字典中所有值的dict_values对象\n",
    "items           adict.items()           返回包含字典中所有键–值对的dict_items对象\n",
    "get             adict.get(k)            返回k对应的值，如果没有则返回None\n",
    "get             adict.get(k, alt)       返回k对应的值，如果没有则返回alt\n",
    "'''\n",
    "\n",
    "phoneext={'david':1410, 'brad':1137}\n",
    "print (phoneext)                # {'david': 1410, 'brad': 1137}\n",
    "\n",
    "print (phoneext.keys())         # dict_keys(['david', 'brad'])\n",
    "\n",
    "print (list(phoneext.keys()))   # ['david', 'brad']\n",
    "\n",
    "print (phoneext.values())       # dict_values([1410, 1137])\n",
    "\n",
    "print (list(phoneext.values())) # [1410, 1137]\n",
    "\n",
    "print (phoneext.items())        # dict_items([('david', 1410), ('brad', 1137)])\n",
    "\n",
    "print (list(phoneext.items()))  # [('david', 1410), ('brad', 1137)]\n",
    "\n",
    "phoneext.get(\"kent\")\n",
    "phoneext.get(\"kent\", \"NO ENTRY\")\n"
   ]
  },
  {
   "cell_type": "code",
   "execution_count": 172,
   "metadata": {},
   "outputs": [
    {
     "name": "stdout",
     "output_type": "stream",
     "text": [
      "Jason is 20 years old.\n"
     ]
    }
   ],
   "source": [
    "# 格式化字符串可用的类型声明\n",
    "'''\n",
    "字符            输出格式\n",
    "d、i            整数\n",
    "u               无符号整数\n",
    "f               m.dddd格式的浮点数\n",
    "e               m.dddde+/-xx格式的浮点数\n",
    "E               m.ddddE+/-xx格式的浮点数\n",
    "g               对指数小于-4或者大于5的使用%e，否则使用%f\n",
    "c               单个字符\n",
    "s               字符串，或者任意可以通过str函数转换成字符串的Python数据对象\n",
    "%               插入一个常量%符号\n",
    "'''\n",
    "\n",
    "print(\"%s is %d years old.\" % ('Jason', 20))"
   ]
  },
  {
   "cell_type": "code",
   "execution_count": 173,
   "metadata": {},
   "outputs": [
    {
     "name": "stdout",
     "output_type": "stream",
     "text": [
      "The banana costs 24 cents\n",
      "The     banana costs 24.00 cents\n",
      "The     banana costs      24.00 cents\n",
      "The banana costs    24.0 cents\n"
     ]
    }
   ],
   "source": [
    "# 格式化修改符\n",
    "'''\n",
    "修改符          例子            解释\n",
    "数字            %20d            将值放在20个字符宽的区域中\n",
    "-               %-20d           将值放在20个字符宽的区域中，并且左对齐\n",
    "+               %+20d           将值放在20个字符宽的区域中，并且右对齐\n",
    "0               %020d           将值放在20个字符宽的区域中，并在前面补上0\n",
    ".               %20.2f          将值放在20个字符宽的区域中，并且保留小数点后2位\n",
    "(name)          %(name)d        从字典中获取name键对应的值格\n",
    "'''\n",
    "\n",
    "price = 24\n",
    "item = \"banana\"\n",
    "print(\"The %s costs %d cents\" % (item,price))\n",
    "\n",
    "print(\"The %+10s costs %5.2f cents\" % (item,price))\n",
    "\n",
    "print(\"The %+10s costs %10.2f cents\" % (item,price))\n",
    "\n",
    "itemdict = {\"item\":\"banana\",\"cost\":24}\n",
    "print(\"The %(item)s costs %(cost)7.1f cents\" % itemdict)"
   ]
  },
  {
   "cell_type": "code",
   "execution_count": 174,
   "metadata": {},
   "outputs": [
    {
     "name": "stdout",
     "output_type": "stream",
     "text": [
      "Hello, world\n",
      "Hello, world\n",
      "Hello, world\n",
      "Hello, world\n",
      "Hello, world\n"
     ]
    }
   ],
   "source": [
    "# 控制结构\n",
    "counter = 1\n",
    "while counter <= 5:\n",
    "    print(\"Hello, world\")\n",
    "    counter = counter + 1"
   ]
  },
  {
   "cell_type": "code",
   "execution_count": 175,
   "metadata": {},
   "outputs": [
    {
     "name": "stdout",
     "output_type": "stream",
     "text": [
      "['c', 'a', 't', 'd', 'o', 'g', 'r', 'a', 'b', 'b', 'i', 't']\n"
     ]
    }
   ],
   "source": [
    "# for语句\n",
    "wordlist = ['cat','dog','rabbit']\n",
    "letterlist = []\n",
    "for aword in wordlist:\n",
    "    for aletter in aword:\n",
    "        letterlist.append(aletter)\n",
    "print (letterlist)"
   ]
  },
  {
   "cell_type": "code",
   "execution_count": 176,
   "metadata": {},
   "outputs": [
    {
     "name": "stdout",
     "output_type": "stream",
     "text": [
      "[1, 4, 9, 16, 25, 36, 49, 64, 81, 100]\n"
     ]
    }
   ],
   "source": [
    "# for语句\n",
    "sqlist = []\n",
    "for x in range(1,11):\n",
    "    sqlist.append(x*x)\n",
    "print (sqlist)"
   ]
  },
  {
   "cell_type": "code",
   "execution_count": 177,
   "metadata": {},
   "outputs": [
    {
     "name": "stdout",
     "output_type": "stream",
     "text": [
      "[1, 4, 9, 16, 25, 36, 49, 64, 81, 100]\n",
      "[1, 9, 25, 49, 81]\n",
      "['C', 'M', 'P', 'R', 'H', 'N', 'S', 'N']\n"
     ]
    }
   ],
   "source": [
    "# 列表解析式\n",
    "sqlist = [x * x for x in range(1,11)]\n",
    "print (sqlist)\n",
    "\n",
    "sqlist = [x * x for x in range(1,11) if x % 2 != 0]\n",
    "print (sqlist)\n",
    "\n",
    "sqlist = [ch.upper() for ch in 'comprehension' if ch not in 'aeiou']\n",
    "print (sqlist)"
   ]
  },
  {
   "cell_type": "code",
   "execution_count": 178,
   "metadata": {},
   "outputs": [],
   "source": [
    "class Fraction:\n",
    "    # 构造方法总是命名为__init__\n",
    "    def __init__(self, top, bottom):  # self是一个总是指向对象本身的特殊参数，它必须是第一个形式参数。\n",
    "        self.num = top          # self.num定义了Fraction对象有一个叫作num的内部数据对象作为其状态的一部分\n",
    "        self.den = bottom       # 这两个实际参数的值在初始时赋给了状态，使得新创建的 Fraction 对象能够知道其初始值。\n",
    "    \n",
    "    def __str__(self):          # 将对象转换成字符串的方法\n",
    "        return str(self.num) + \"/\" + str(self.den) # 将两部分内部状态数据转换成字符串并在它们之间插入字符/来将分数对象转换成字符串。\n",
    "    \n",
    "    def show(self):\n",
    "        print(self.num, \"/\", self.den)\n",
    "        \n",
    "    def __add__(self, otherfraction):  # 使得Fraction对象可以相加\n",
    "        newnum = self.num * otherfraction.den + self.den * otherfraction.num\n",
    "        newden = self.den * otherfraction.den\n",
    "        common = gcd(newnum, newden)\n",
    "        return Fraction(newnum//common, newden//common)\n",
    "        \n",
    "    def __eq__(self, other):  # 可以建立深相等——根据值来判断相等，而不是根据引用\n",
    "        firstnum = self.num * other.den\n",
    "        secondnum = other.num * self.den\n",
    "        return firstnum == secondnum"
   ]
  },
  {
   "cell_type": "code",
   "execution_count": 184,
   "metadata": {},
   "outputs": [
    {
     "name": "stdout",
     "output_type": "stream",
     "text": [
      "concat  6.150936100000024 milliseconds\n",
      "append  0.17348540000000412 milliseconds\n",
      "comprehension  0.07800270000001319 milliseconds\n",
      "list range  0.0359909000000016 milliseconds\n"
     ]
    }
   ],
   "source": [
    "# 生成列表的四种方式\n",
    "def test1():\n",
    "    l = []\n",
    "    for i in range(2000):\n",
    "        l = l + [i]\n",
    "\n",
    "def test2():\n",
    "    l = []\n",
    "    for i in range(2000):\n",
    "        l.append(i)\n",
    "\n",
    "def test3():\n",
    "    l = [i for i in range(2000)]\n",
    "\n",
    "def test4():\n",
    "    l = list(range(2000))\n",
    "\n",
    "from timeit import Timer\n",
    "\n",
    "t1 = Timer(\"test1()\", \"from __main__ import test1\")\n",
    "print(\"concat \", t1.timeit(number=2000), \"milliseconds\")\n",
    "\n",
    "t2 = Timer(\"test2()\", \"from __main__ import test2\")\n",
    "print(\"append \", t2.timeit(number=2000), \"milliseconds\")\n",
    "\n",
    "t3 = Timer(\"test3()\", \"from __main__ import test3\")\n",
    "print(\"comprehension \", t3.timeit(number=2000), \"milliseconds\")\n",
    "\n",
    "t4 = Timer(\"test4()\", \"from __main__ import test4\")\n",
    "print(\"list range \", t4.timeit(number=2000), \"milliseconds\")"
   ]
  },
  {
   "cell_type": "code",
   "execution_count": null,
   "metadata": {},
   "outputs": [],
   "source": []
  },
  {
   "cell_type": "code",
   "execution_count": null,
   "metadata": {},
   "outputs": [],
   "source": []
  }
 ],
 "metadata": {
  "interpreter": {
   "hash": "55d0341e694fb70406e638a4f2162cf47c98f86fd85dae8f32efdba98646fd4f"
  },
  "kernelspec": {
   "display_name": "Python 3.6.8 64-bit ('tf115': conda)",
   "language": "python",
   "name": "python3"
  },
  "language_info": {
   "codemirror_mode": {
    "name": "ipython",
    "version": 3
   },
   "file_extension": ".py",
   "mimetype": "text/x-python",
   "name": "python",
   "nbconvert_exporter": "python",
   "pygments_lexer": "ipython3",
   "version": "3.6.8"
  },
  "orig_nbformat": 4
 },
 "nbformat": 4,
 "nbformat_minor": 2
}
